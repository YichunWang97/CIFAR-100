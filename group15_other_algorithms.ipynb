{
 "cells": [
  {
   "cell_type": "markdown",
   "metadata": {},
   "source": [
    "## Random forest classcifation"
   ]
  },
  {
   "cell_type": "code",
   "execution_count": null,
   "metadata": {},
   "outputs": [],
   "source": [
    "import pickle\n",
    "import pandas as pd\n",
    "import numpy as np\n",
    "from sklearn.model_selection import train_test_split\n",
    "from sklearn.preprocessing import StandardScaler\n",
    "from sklearn.decomposition import PCA\n",
    "\n",
    "#Unpickle file\n",
    "def unpickle(file):\n",
    "    with open(file, 'rb') as fo:\n",
    "        dict = pickle.load(fo, encoding='latin1')\n",
    "    return dict;\n",
    "\n",
    "data_train = unpickle('./cifar-100-python/train')\n",
    "train = data_train.get('data')\n",
    "train_coarse_labels = data_train.get('coarse_labels')\n",
    "\n",
    "#Grayscale preprocessing\n",
    "train_image = train.reshape(-1,3,32,32)\n",
    "train_image_gray = np.zeros(train_image.shape)\n",
    "for i in range(0, train_image.shape[0]):\n",
    "    r = train_image[i][0]\n",
    "    g = train_image[i][1]\n",
    "    b = train_image[i][2]\n",
    "    grey = r*0.3+g*0.59+b*0.11\n",
    "    image_grey = [grey, grey, grey]\n",
    "    train_image_gray[i] = image_grey\n",
    "train = train_image_gray.reshape(-1, 3072)\n",
    "\n",
    "train = pd.DataFrame(train)\n",
    "train_coarse_labels = pd.DataFrame(train_coarse_labels)"
   ]
  },
  {
   "cell_type": "code",
   "execution_count": 2,
   "metadata": {},
   "outputs": [],
   "source": [
    "#Standardization\n",
    "scaler = StandardScaler()\n",
    "scaler.fit(train)\n",
    "train = scaler.transform(trSain)\n",
    "\n",
    "#Principal component analysis\n",
    "pca = PCA(n_components = 0.8)\n",
    "train = pca.fit_transform(train)"
   ]
  },
  {
   "cell_type": "code",
   "execution_count": 3,
   "metadata": {},
   "outputs": [
    {
     "data": {
      "text/plain": [
       "(40000, 22)"
      ]
     },
     "execution_count": 3,
     "metadata": {},
     "output_type": "execute_result"
    }
   ],
   "source": [
    "#Split data set\n",
    "x_train, x_test, y_train, y_test = train_test_split(train, train_coarse_labels[0], test_size = 0.2)\n",
    "x_train.shape"
   ]
  },
  {
   "cell_type": "code",
   "execution_count": 4,
   "metadata": {},
   "outputs": [
    {
     "name": "stdout",
     "output_type": "stream",
     "text": [
      "Fitting 10 folds for each of 20 candidates, totalling 200 fits\n"
     ]
    },
    {
     "name": "stderr",
     "output_type": "stream",
     "text": [
      "[Parallel(n_jobs=-1)]: Using backend LokyBackend with 12 concurrent workers.\n",
      "[Parallel(n_jobs=-1)]: Done  17 tasks      | elapsed:  7.4min\n",
      "[Parallel(n_jobs=-1)]: Done 138 tasks      | elapsed: 36.2min\n",
      "[Parallel(n_jobs=-1)]: Done 200 out of 200 | elapsed: 46.2min finished\n"
     ]
    },
    {
     "data": {
      "text/plain": [
       "RandomizedSearchCV(cv=10, estimator=RandomForestClassifier(), n_iter=20,\n",
       "                   n_jobs=-1,\n",
       "                   param_distributions={'bootstrap': [True, False],\n",
       "                                        'max_depth': [6, 7, 8, 9, 10, 11, 12,\n",
       "                                                      13, 14, 15, 16, 17, 18,\n",
       "                                                      19, 20, None],\n",
       "                                        'max_features': ['auto', 'sqrt'],\n",
       "                                        'min_samples_leaf': [1, 2, 4],\n",
       "                                        'min_samples_split': [2, 5, 10],\n",
       "                                        'n_estimators': [600, 700, 800, 900,\n",
       "                                                         1000]},\n",
       "                   scoring='accuracy', verbose=2)"
      ]
     },
     "execution_count": 4,
     "metadata": {},
     "output_type": "execute_result"
    }
   ],
   "source": [
    "from sklearn.model_selection import RandomizedSearchCV\n",
    "from sklearn.ensemble import RandomForestClassifier\n",
    "\n",
    "#Use RandomizedSearchCV to find parameters for the random forest algorithm (including 10 cross-validation)\n",
    "n_estimators = [int(x) for x in np.linspace(start = 600, stop = 1000, num = 5)]\n",
    "max_features = ['auto', 'sqrt']\n",
    "max_depth = [int(x) for x in np.linspace(6, 20, num = 15)]\n",
    "max_depth.append(None)\n",
    "min_samples_split = [2, 5, 10]\n",
    "min_samples_leaf = [1, 2, 4]\n",
    "bootstrap = [True, False]\n",
    "\n",
    "random_grid = {'n_estimators': n_estimators,\n",
    "               'max_features': max_features,\n",
    "               'max_depth': max_depth,\n",
    "               'min_samples_split': min_samples_split,\n",
    "               'min_samples_leaf': min_samples_leaf,\n",
    "               'bootstrap': bootstrap\n",
    "              }\n",
    "\n",
    "rf_coarse = RandomForestClassifier()\n",
    "rf_random_coarse = RandomizedSearchCV(\n",
    "    estimator = rf_coarse, \n",
    "    param_distributions = random_grid,\n",
    "    n_iter = 20,\n",
    "    scoring = 'accuracy', \n",
    "    cv = 10,\n",
    "    verbose = 2,\n",
    "    n_jobs = -1\n",
    ")\n",
    "rf_random_coarse.fit(x_train, y_train)"
   ]
  },
  {
   "cell_type": "code",
   "execution_count": 5,
   "metadata": {},
   "outputs": [
    {
     "data": {
      "text/plain": [
       "{'n_estimators': 600,\n",
       " 'min_samples_split': 10,\n",
       " 'min_samples_leaf': 1,\n",
       " 'max_features': 'sqrt',\n",
       " 'max_depth': 20,\n",
       " 'bootstrap': False}"
      ]
     },
     "execution_count": 5,
     "metadata": {},
     "output_type": "execute_result"
    }
   ],
   "source": [
    "#The best parameters of random forest\n",
    "rf_random_coarse.best_params_"
   ]
  },
  {
   "cell_type": "code",
   "execution_count": 7,
   "metadata": {},
   "outputs": [
    {
     "data": {
      "text/plain": [
       "RandomForestClassifier(bootstrap=False, max_depth=20, max_features='sqrt',\n",
       "                       min_samples_split=10, n_estimators=600)"
      ]
     },
     "execution_count": 7,
     "metadata": {},
     "output_type": "execute_result"
    }
   ],
   "source": [
    "#Get the best classifier\n",
    "rfc_coarse = rf_random_coarse.best_estimator_\n",
    "rfc_coarse.fit(x_train, y_train)"
   ]
  },
  {
   "cell_type": "code",
   "execution_count": 36,
   "metadata": {},
   "outputs": [
    {
     "name": "stdout",
     "output_type": "stream",
     "text": [
      "Random forest classification report for super class in Cifar-100\n",
      "              precision    recall  f1-score   support\n",
      "\n",
      "           0       0.17      0.12      0.14       502\n",
      "           1       0.32      0.27      0.29       501\n",
      "           2       0.21      0.33      0.26       474\n",
      "           3       0.44      0.41      0.42       481\n",
      "           4       0.44      0.24      0.31       504\n",
      "           5       0.38      0.22      0.28       497\n",
      "           6       0.37      0.30      0.33       524\n",
      "           7       0.25      0.34      0.29       468\n",
      "           8       0.19      0.15      0.17       523\n",
      "           9       0.28      0.37      0.31       500\n",
      "          10       0.40      0.54      0.46       510\n",
      "          11       0.22      0.21      0.21       505\n",
      "          12       0.20      0.27      0.23       475\n",
      "          13       0.21      0.20      0.21       472\n",
      "          14       0.27      0.34      0.30       504\n",
      "          15       0.17      0.15      0.16       503\n",
      "          16       0.20      0.18      0.19       502\n",
      "          17       0.36      0.48      0.41       544\n",
      "          18       0.25      0.27      0.26       494\n",
      "          19       0.41      0.23      0.29       517\n",
      "\n",
      "    accuracy                           0.28     10000\n",
      "   macro avg       0.29      0.28      0.28     10000\n",
      "weighted avg       0.29      0.28      0.28     10000\n",
      "\n"
     ]
    }
   ],
   "source": [
    "from sklearn.metrics import classification_report\n",
    "\n",
    "#Generate classification_report for random forest\n",
    "print(\"Random forest classification report for super class in Cifar-100\")\n",
    "print(classification_report(y_test, rfc_coarse.predict(x_test)))"
   ]
  },
  {
   "cell_type": "code",
   "execution_count": 34,
   "metadata": {},
   "outputs": [
    {
     "name": "stdout",
     "output_type": "stream",
     "text": [
      "Random forest confusion matrix for super class in Cifar-100\n"
     ]
    },
    {
     "data": {
      "image/png": "[encoded data removed]",
      "text/plain": [
       "<Figure size 288x288 with 2 Axes>"
      ]
     },
     "metadata": {
      "needs_background": "light"
     },
     "output_type": "display_data"
    }
   ],
   "source": [
    "from sklearn.metrics import confusion_matrix\n",
    "import matplotlib.pyplot as plt\n",
    "import matplotlib\n",
    "\n",
    "#Generate confusion matrix for random forest\n",
    "def confusion_matrix_plot(y_text, y_predict):\n",
    "    matrix = confusion_matrix(y_text, y_predict)\n",
    "    plt.matshow(matrix)\n",
    "    plt.colorbar()\n",
    "    plt.ylabel('True label')\n",
    "    plt.xlabel('Predicted label')\n",
    "    return plt\n",
    "\n",
    "print(\"Random forest confusion matrix for super class in Cifar-100\")\n",
    "confusion_matrix_plot(y_test, rfc_coarse.predict(x_test)).show()"
   ]
  },
  {
   "cell_type": "markdown",
   "metadata": {},
   "source": [
    "#### The following is the prediction of the algorithm for test. \n",
    "#### The following cell can be run independently.\n",
    "#### The parameters of the classifier are the results of the report above.\n",
    "#### The purpose of the test set being mixed into the train is to make the test set perform the same preprocessing as the train set, where the test set does not participate in the model training process."
   ]
  },
  {
   "cell_type": "code",
   "execution_count": 7,
   "metadata": {},
   "outputs": [
    {
     "name": "stdout",
     "output_type": "stream",
     "text": [
      "Random forest classification report for super class in Cifar-100\n",
      "              precision    recall  f1-score   support\n",
      "\n",
      "           0       0.18      0.15      0.17       500\n",
      "           1       0.30      0.28      0.29       500\n",
      "           2       0.22      0.32      0.26       500\n",
      "           3       0.40      0.36      0.38       500\n",
      "           4       0.42      0.23      0.30       500\n",
      "           5       0.34      0.21      0.26       500\n",
      "           6       0.30      0.25      0.27       500\n",
      "           7       0.27      0.33      0.30       500\n",
      "           8       0.18      0.17      0.17       500\n",
      "           9       0.29      0.38      0.33       500\n",
      "          10       0.37      0.49      0.42       500\n",
      "          11       0.19      0.16      0.17       500\n",
      "          12       0.20      0.24      0.22       500\n",
      "          13       0.20      0.17      0.18       500\n",
      "          14       0.22      0.28      0.25       500\n",
      "          15       0.16      0.13      0.14       500\n",
      "          16       0.20      0.19      0.20       500\n",
      "          17       0.33      0.49      0.39       500\n",
      "          18       0.30      0.29      0.30       500\n",
      "          19       0.38      0.25      0.30       500\n",
      "\n",
      "    accuracy                           0.27     10000\n",
      "   macro avg       0.27      0.27      0.26     10000\n",
      "weighted avg       0.27      0.27      0.26     10000\n",
      "\n",
      "Random forest confusion matrix for super class in Cifar-100\n"
     ]
    },
    {
     "data": {
      "image/png": "[encoded data removed]",
      "text/plain": [
       "<Figure size 288x288 with 2 Axes>"
      ]
     },
     "metadata": {
      "needs_background": "light"
     },
     "output_type": "display_data"
    },
    {
     "name": "stdout",
     "output_type": "stream",
     "text": [
      "Total running time 257.15671706199646\n"
     ]
    }
   ],
   "source": [
    "import pandas as pd\n",
    "import numpy as np\n",
    "import matplotlib.pyplot as plt\n",
    "import matplotlib\n",
    "import pickle\n",
    "import time\n",
    "\n",
    "from sklearn.preprocessing import StandardScaler\n",
    "from sklearn.decomposition import PCA\n",
    "from sklearn.ensemble import RandomForestClassifier\n",
    "from sklearn.metrics import classification_report\n",
    "from sklearn.metrics import confusion_matrix\n",
    "\n",
    "start = time.time()\n",
    "\n",
    "def unpickle(file):\n",
    "    with open(file, 'rb') as fo:\n",
    "        dict = pickle.load(fo, encoding='latin1')\n",
    "    return dict;\n",
    "\n",
    "def random_forest_classcifation(data_train_features, data_train_labels, data_test_features):\n",
    "    train = data_train_features\n",
    "    train_coarse_labels = data_train_labels\n",
    "    test = data_test_features\n",
    "    #test_coarse_labels = data_test.get('coarse_labels')\n",
    "\n",
    "    total = np.vstack((train, test))\n",
    "    total_image = total.reshape(-1,3,32,32)\n",
    "    total_image_gray = np.zeros(total_image.shape)\n",
    "    for i in range(0, total_image.shape[0]):\n",
    "        r = total_image[i][0]\n",
    "        g = total_image[i][1]\n",
    "        b = total_image[i][2]\n",
    "        grey = r*0.3+g*0.59+b*0.11\n",
    "        image_grey = [grey, grey, grey]\n",
    "        total_image_gray[i] = image_grey\n",
    "    total = total_image_gray.reshape(-1, 3072)\n",
    "\n",
    "    scaler_total = StandardScaler()\n",
    "    scaler_total.fit(total)\n",
    "    total = scaler_total.transform(total)\n",
    "\n",
    "    pca_total = PCA(n_components = 0.8)\n",
    "    total = pca_total.fit_transform(total)\n",
    "\n",
    "    train = total[0:50000,:]\n",
    "    test = total[50000:60000,:]\n",
    "\n",
    "    random_forest = RandomForestClassifier(\n",
    "        n_estimators = 600,\n",
    "        min_samples_split = 10,\n",
    "        min_samples_leaf = 1,\n",
    "        max_features = 'sqrt',\n",
    "        max_depth = 20,\n",
    "        bootstrap = False\n",
    "    )\n",
    "    random_forest.fit(train, train_coarse_labels)\n",
    "    return random_forest.predict(test)\n",
    "\n",
    "data_train = unpickle('./cifar-100-python/train')\n",
    "train = data_train.get('data')\n",
    "train_coarse_labels = data_train.get('coarse_labels')\n",
    "data_test = unpickle('./cifar-100-python/test')\n",
    "test = data_test.get('data')\n",
    "\n",
    "test_predict = random_forest_classcifation(train, train_coarse_labels, test)\n",
    "test_coarse_labels = data_test.get('coarse_labels')\n",
    "\n",
    "print(\"Random forest classification report for super class in Cifar-100\")\n",
    "print(classification_report(test_coarse_labels, test_predict))\n",
    "\n",
    "def confusion_matrix_plot(y_text, y_predict):\n",
    "    matrix = confusion_matrix(y_text, y_predict)\n",
    "    plt.matshow(matrix)\n",
    "    plt.colorbar()\n",
    "    plt.ylabel('True label')\n",
    "    plt.xlabel('Predicted label')\n",
    "    return plt\n",
    "\n",
    "print(\"Random forest confusion matrix for super class in Cifar-100\")\n",
    "confusion_matrix_plot(test_coarse_labels, test_predict).show()   \n",
    "\n",
    "print('Total running time', time.time() - start)"
   ]
  },
  {
   "cell_type": "markdown",
   "metadata": {},
   "source": [
    "## K-nn classcifation"
   ]
  },
  {
   "cell_type": "code",
   "execution_count": 1,
   "metadata": {},
   "outputs": [
    {
     "data": {
      "text/plain": [
       "dict_keys([b'filenames', b'batch_label', b'fine_labels', b'coarse_labels', b'data'])"
      ]
     },
     "execution_count": 1,
     "metadata": {},
     "output_type": "execute_result"
    }
   ],
   "source": [
    "import pandas as pd\n",
    "import numpy as np\n",
    "import matplotlib\n",
    "import matplotlib.pyplot as plt\n",
    "import time\n",
    "import tarfile\n",
    "\n",
    "from tqdm import tqdm\n",
    "    \n",
    "def unpickle(file):\n",
    "    import pickle\n",
    "    with open(file, 'rb') as fo:\n",
    "        dict = pickle.load(fo, encoding='bytes')\n",
    "    return dict\n",
    "\n",
    "train = unpickle(\"./cifar-100-python/train\")\n",
    "test = unpickle(\"./cifar-100-python/test\")\n",
    "meta = unpickle(\"./cifar-100-python/meta\")\n",
    "train.keys()"
   ]
  },
  {
   "cell_type": "code",
   "execution_count": 2,
   "metadata": {},
   "outputs": [],
   "source": [
    "#read data\n",
    "#train set\n",
    "train_data = train[b'data']\n",
    "train_fine_labels = train[b'fine_labels']\n",
    "train_coarse_labels = train[b'coarse_labels']\n",
    "\n",
    "#test set\n",
    "test_data = test[b'data']\n",
    "test_fine_labels = test[b'fine_labels']\n",
    "test_coarse_labels = test[b'coarse_labels']"
   ]
  },
  {
   "cell_type": "code",
   "execution_count": 3,
   "metadata": {},
   "outputs": [],
   "source": [
    "#0-1 normalization \n",
    "train_data_01 = train_data/255\n",
    "test_data_01 = test_data/255"
   ]
  },
  {
   "cell_type": "code",
   "execution_count": 6,
   "metadata": {},
   "outputs": [],
   "source": [
    "#10k-fold &# knn within coarse labels\n",
    "from sklearn.model_selection import KFold\n",
    "from sklearn.neighbors import KNeighborsClassifier"
   ]
  },
  {
   "cell_type": "code",
   "execution_count": null,
   "metadata": {},
   "outputs": [
    {
     "name": "stderr",
     "output_type": "stream",
     "text": [
      "\r",
      "  0%|                                                                                            | 0/8 [00:00<?, ?it/s]"
     ]
    }
   ],
   "source": [
    "X = train_data_01\n",
    "y = np.array(train_coarse_labels)\n",
    "\n",
    "kf = KFold(n_splits=10)\n",
    "kf.get_n_splits(X)\n",
    "\n",
    "\n",
    "for train_index, test_index in kf.split(X):\n",
    "    X_train, X_test = X[train_index], X[test_index]\n",
    "    y_train, y_test = y[train_index], y[test_index]\n",
    "    for q in tqdm(range(6,14)):\n",
    "        t3 = time.time()\n",
    "        neigh_1 = KNeighborsClassifier(n_neighbors=q,n_jobs=-1)\n",
    "        neigh_1.fit(X_train,y_train)\n",
    "        predit_02=neigh_1.predict(test_data_01)\n",
    "        coarse_label_score = (predit_02 == test_coarse_labels).mean()\n",
    "        t4 = time.time()\n",
    "        print(\"q:\",q,\"\\n\"\"Accuracy:{:.2%}\".format(coarse_label_score),\"\\n\"\"Cost Time: \", t4-t3)"
   ]
  },
  {
   "cell_type": "code",
   "execution_count": 7,
   "metadata": {},
   "outputs": [
    {
     "data": {
      "image/png": "[encoded data removed]",
      "text/plain": [
       "<Figure size 432x288 with 1 Axes>"
      ]
     },
     "metadata": {
      "needs_background": "light"
     },
     "output_type": "display_data"
    }
   ],
   "source": [
    "cv1_rate = [24.58,24.84,24.36,24.39,24.37,24.65,24.47,24.36,24.49]\n",
    "cv2_rate = [24.73,24.42,24.52,24.54,24.60,24.61,24.51,24.29,24.31]\n",
    "cv3_rate = [24.40,24.34,24.27,24.52,24.38,24.06,24.08,23.99,24.01]\n",
    "cv4_rate = [24.42,24.55,24.55,24.62,24.42,24.27,24.47,24.34,24.50]\n",
    "cv5_rate = [24.57,24.58,24.64,24.70,24.56,24.52,24.51,24.34,24.38]\n",
    "cv6_rate = [24.46,24.49,24.37,24.71,24.39,24.53,24.53,24.30,24.55]\n",
    "cv7_rate = [24.51,24.53,24.66,24.56,24.36,24.48,24.50,24.63,24.65]\n",
    "cv8_rate = [24.46,24.68,24.50,24.30,24.44,24.52,24.26,24.42,24.29]\n",
    "cv9_rate = [24.60,24.67,24.55,24.57,24.66,24.32,24.50,24.18,24.08]\n",
    "cv10_rate = [24.48,24.53,24.58,24.42,24.26,24.20,24.02,24.02,24.21]\n",
    "k_value  = [6,7,8,9,10,11,12,13,14]\n",
    "plt.plot(k_value, cv1_rate, '.-', label='cv1_rate')\n",
    "plt.plot(k_value, cv2_rate, '.-', label='cv2_rate')\n",
    "plt.plot(k_value, cv3_rate, '.-', label='cv3_rate')\n",
    "plt.plot(k_value, cv4_rate, '.-', label='cv4_rate')\n",
    "plt.plot(k_value, cv5_rate, '.-', label='cv5_rate')\n",
    "plt.plot(k_value, cv6_rate, '.-', label='cv6_rate')\n",
    "plt.plot(k_value, cv7_rate, '.-', label='cv7_rate')\n",
    "plt.plot(k_value, cv8_rate, '.-', label='cv8_rate')\n",
    "plt.plot(k_value, cv9_rate, '.-', label='cv9_rate')\n",
    "plt.plot(k_value, cv10_rate, '.-', label='cv10_rate')\n",
    "\n",
    "plt.xticks(k_value) \n",
    "plt.xlabel('k value') \n",
    "plt.legend() \n",
    "plt.show() "
   ]
  },
  {
   "cell_type": "code",
   "execution_count": 8,
   "metadata": {},
   "outputs": [
    {
     "name": "stdout",
     "output_type": "stream",
     "text": [
      "Accuracy:25.04% \n",
      "Cost Time:  484.14575362205505\n"
     ]
    }
   ],
   "source": [
    "#knn\n",
    "t1 = time.time()\n",
    "neigh_1 = KNeighborsClassifier(n_neighbors=7 ,n_jobs=-1)\n",
    "neigh_1.fit(train_data_01,train_coarse_labels)\n",
    "predit_02=neigh_1.predict(test_data_01)\n",
    "coarse_label_score = (predit_02 == test_coarse_labels).mean()\n",
    "t2 = time.time()\n",
    "print(\"Accuracy:{:.2%}\".format(coarse_label_score),\"\\n\"\"Cost Time: \", t2-t1)"
   ]
  },
  {
   "cell_type": "code",
   "execution_count": 11,
   "metadata": {},
   "outputs": [
    {
     "name": "stdout",
     "output_type": "stream",
     "text": [
      "              precision    recall  f1-score   support\n",
      "\n",
      "           0       0.17      0.28      0.21       500\n",
      "           1       0.18      0.39      0.25       500\n",
      "           2       0.64      0.24      0.35       500\n",
      "           3       0.29      0.46      0.35       500\n",
      "           4       0.54      0.32      0.40       500\n",
      "           5       0.32      0.21      0.25       500\n",
      "           6       0.30      0.23      0.26       500\n",
      "           7       0.35      0.29      0.32       500\n",
      "           8       0.20      0.09      0.12       500\n",
      "           9       0.34      0.22      0.26       500\n",
      "          10       0.22      0.69      0.33       500\n",
      "          11       0.20      0.11      0.14       500\n",
      "          12       0.20      0.20      0.20       500\n",
      "          13       0.12      0.25      0.17       500\n",
      "          14       0.65      0.09      0.15       500\n",
      "          15       0.11      0.12      0.11       500\n",
      "          16       0.18      0.14      0.15       500\n",
      "          17       0.48      0.50      0.49       500\n",
      "          18       0.54      0.05      0.09       500\n",
      "          19       0.48      0.13      0.20       500\n",
      "\n",
      "    accuracy                           0.25     10000\n",
      "   macro avg       0.32      0.25      0.24     10000\n",
      "weighted avg       0.32      0.25      0.24     10000\n",
      "\n"
     ]
    }
   ],
   "source": [
    "# precision & recall\n",
    "from sklearn.metrics import classification_report\n",
    "print(classification_report(test_coarse_labels, predit_02))"
   ]
  },
  {
   "cell_type": "code",
   "execution_count": 12,
   "metadata": {},
   "outputs": [
    {
     "data": {
      "image/png": "[encoded data removed]",
      "text/plain": [
       "<Figure size 288x288 with 2 Axes>"
      ]
     },
     "metadata": {
      "needs_background": "light"
     },
     "output_type": "display_data"
    }
   ],
   "source": [
    "#confusion matrix\n",
    "from sklearn.metrics import confusion_matrix\n",
    "\n",
    "def confusion_matrix_plot(test_coarse_labels, y_predict):\n",
    "    matrix = confusion_matrix(test_coarse_labels, y_predict)\n",
    "    plt.matshow(matrix)\n",
    "    plt.colorbar()\n",
    "    plt.ylabel('True label')\n",
    "    plt.xlabel('Predicted label')\n",
    "    return plt\n",
    "\n",
    "confusion_matrix_plot(test_coarse_labels, predit_02).show()"
   ]
  },
  {
   "cell_type": "code",
   "execution_count": null,
   "metadata": {},
   "outputs": [],
   "source": []
  }
 ],
 "metadata": {
  "kernelspec": {
   "display_name": "Python 3",
   "language": "python",
   "name": "python3"
  },
  "language_info": {
   "codemirror_mode": {
    "name": "ipython",
    "version": 3
   },
   "file_extension": ".py",
   "mimetype": "text/x-python",
   "name": "python",
   "nbconvert_exporter": "python",
   "pygments_lexer": "ipython3",
   "version": "3.8.3"
  }
 },
 "nbformat": 4,
 "nbformat_minor": 4
}
